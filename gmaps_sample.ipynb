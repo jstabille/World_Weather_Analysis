{
 "cells": [
  {
   "cell_type": "code",
   "execution_count": 2,
   "id": "383a45d9-5c59-4e2c-8eee-bbcb5377c10e",
   "metadata": {},
   "outputs": [
    {
     "data": {
      "application/vnd.jupyter.widget-view+json": {
       "model_id": "97503387fa28460181031b5b09d111a6",
       "version_major": 2,
       "version_minor": 0
      },
      "text/plain": [
       "Figure(layout=FigureLayout(height='420px'))"
      ]
     },
     "metadata": {},
     "output_type": "display_data"
    }
   ],
   "source": [
    "import gmaps\n",
    "import gmaps.datasets\n",
    "from config import g_key\n",
    "\n",
    "gmaps.configure(api_key=g_key) # Your Google API key\n",
    "\n",
    "# load a Numpy array of (latitude, longitude) pairs\n",
    "locations = gmaps.datasets.load_dataset(\"taxi_rides\")\n",
    "\n",
    "fig = gmaps.figure()\n",
    "fig.add_layer(gmaps.heatmap_layer(locations))\n",
    "fig"
   ]
  },
  {
   "cell_type": "code",
   "execution_count": 3,
   "id": "5cc2a7ba-0811-4f9a-85e9-2a42ae9bc316",
   "metadata": {},
   "outputs": [
    {
     "data": {
      "application/vnd.jupyter.widget-view+json": {
       "model_id": "419c3561aeb44948a634148baed5da5b",
       "version_major": 2,
       "version_minor": 0
      },
      "text/plain": [
       "Figure(layout=FigureLayout(height='420px'))"
      ]
     },
     "metadata": {},
     "output_type": "display_data"
    }
   ],
   "source": [
    "import gmaps\n",
    "import gmaps.datasets\n",
    "from config import g_key\n",
    "\n",
    "# Your Google API key\n",
    "gmaps.configure(api_key=g_key) \n",
    "df = gmaps.datasets.load_dataset_as_df('starbucks_kfc_uk')\n",
    "\n",
    "starbucks_df = df[df['chain_name'] == 'starbucks']\n",
    "starbucks_df = starbucks_df[['latitude', 'longitude']]\n",
    "\n",
    "starbucks_layer = gmaps.symbol_layer(\n",
    "    starbucks_df, fill_color=\"green\", stroke_color=\"green\", scale=2\n",
    ")\n",
    "fig = gmaps.figure()\n",
    "fig.add_layer(starbucks_layer)\n",
    "fig"
   ]
  },
  {
   "cell_type": "code",
   "execution_count": 4,
   "id": "185aaacd-4fb0-4341-b20b-31815b5cdb96",
   "metadata": {},
   "outputs": [
    {
     "data": {
      "application/vnd.jupyter.widget-view+json": {
       "model_id": "bbc6689bac0b4a84a7ab6630a1ffeb97",
       "version_major": 2,
       "version_minor": 0
      },
      "text/plain": [
       "Figure(layout=FigureLayout(height='420px'))"
      ]
     },
     "metadata": {},
     "output_type": "display_data"
    }
   ],
   "source": [
    "import gmaps\n",
    "import gmaps.datasets\n",
    "gmaps.configure(api_key=\"AI...\") # Your Google API key\n",
    "\n",
    "# load a Numpy array of (latitude, longitude) pairs\n",
    "locations = gmaps.datasets.load_dataset(\"taxi_rides\")\n",
    "\n",
    "fig = gmaps.figure()\n",
    "fig.add_layer(gmaps.heatmap_layer(locations))\n",
    "fig"
   ]
  },
  {
   "cell_type": "code",
   "execution_count": null,
   "id": "28955e7f-530d-489c-ad1a-6ef0a35ed6a2",
   "metadata": {},
   "outputs": [],
   "source": []
  }
 ],
 "metadata": {
  "kernelspec": {
   "display_name": "Python 3",
   "language": "python",
   "name": "python3"
  },
  "language_info": {
   "codemirror_mode": {
    "name": "ipython",
    "version": 3
   },
   "file_extension": ".py",
   "mimetype": "text/x-python",
   "name": "python",
   "nbconvert_exporter": "python",
   "pygments_lexer": "ipython3",
   "version": "3.8.5"
  }
 },
 "nbformat": 4,
 "nbformat_minor": 5
}
